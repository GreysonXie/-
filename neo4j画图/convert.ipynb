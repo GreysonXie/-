{
 "cells": [
  {
   "cell_type": "code",
   "execution_count": 3,
   "id": "e9e41746",
   "metadata": {},
   "outputs": [
    {
     "name": "stdout",
     "output_type": "stream",
     "text": [
      "Entities (first 5 rows):\n",
      "   id  name entity_type\n",
      "0   1  改建地段     地质工程 PC\n",
      "1   2    地形     地质特征 GF\n",
      "2   3    地貌     地质特征 GF\n",
      "3   4  地层岩性     地质特征 GF\n",
      "4   5  地质构造     地质特征 GF \n",
      "\n",
      "Relations (first 5 rows):\n",
      "   start_id  end_id type\n",
      "0         1       2   包含\n",
      "1         1       3   包含\n",
      "2         1       4   包含\n",
      "3         1       5   包含\n",
      "4         1       6   包含 \n",
      "\n",
      "CSV files have been created at:\n",
      "C:/Users/21310/OneDrive/Desktop/知识图谱/JSON转CSV/entities.csv\n",
      "C:/Users/21310/OneDrive/Desktop/知识图谱/JSON转CSV/relations.csv\n"
     ]
    }
   ],
   "source": [
    "import pandas as pd\n",
    "import json\n",
    "\n",
    "# 读取 JSON 文件\n",
    "file_path =r\"C:\\Users\\21310\\OneDrive\\Desktop\\知识图谱\\JSON转CSV\\第8章_1.json\"\n",
    "with open(file_path, 'r', encoding='utf-8') as f:\n",
    "    data = json.load(f)\n",
    "\n",
    "# 提取所有的 SPO 列表\n",
    "spo_lists = []\n",
    "for key in data.keys():\n",
    "    if key.startswith('spo_list'):\n",
    "        spo_lists.extend(data[key])\n",
    "\n",
    "# Build unique entities\n",
    "entities = {}\n",
    "next_id = 1\n",
    "for spo in spo_lists:\n",
    "    subj, subj_type = spo['subject'], spo['subject_type']\n",
    "    if subj not in entities:\n",
    "        entities[subj] = {'id': next_id, 'name': subj, 'entity_type': subj_type}\n",
    "        next_id += 1\n",
    "    obj, obj_type = spo['object'], spo['object_type']\n",
    "    if obj not in entities:\n",
    "        entities[obj] = {'id': next_id, 'name': obj, 'entity_type': obj_type}\n",
    "        next_id += 1\n",
    "\n",
    "# Create DataFrame for entities\n",
    "entities_df = pd.DataFrame.from_records(list(entities.values()), columns=['id', 'name', 'entity_type'])\n",
    "csv_path_entities = \"C:/Users/21310/OneDrive/Desktop/知识图谱/JSON转CSV/entities.csv\"\n",
    "entities_df.to_csv(csv_path_entities, index=False)\n",
    "\n",
    "# Create DataFrame for relations\n",
    "relations = []\n",
    "for spo in spo_lists:\n",
    "    relations.append({\n",
    "        'start_id': entities[spo['subject']]['id'],\n",
    "        'end_id': entities[spo['object']]['id'],\n",
    "        'type': spo['predicate']\n",
    "    })\n",
    "relations_df = pd.DataFrame(relations)\n",
    "csv_path_relations = \"C:/Users/21310/OneDrive/Desktop/知识图谱/JSON转CSV/relations.csv\"\n",
    "relations_df.to_csv(csv_path_relations, index=False)\n",
    "\n",
    "# Show first few rows\n",
    "print(\"Entities (first 5 rows):\")\n",
    "print(entities_df.head(), \"\\n\")\n",
    "print(\"Relations (first 5 rows):\")\n",
    "print(relations_df.head(), \"\\n\")\n",
    "print(\"CSV files have been created at:\")\n",
    "print(csv_path_entities)\n",
    "print(csv_path_relations)"
   ]
  }
 ],
 "metadata": {
  "kernelspec": {
   "display_name": "Python 3",
   "language": "python",
   "name": "python3"
  },
  "language_info": {
   "codemirror_mode": {
    "name": "ipython",
    "version": 3
   },
   "file_extension": ".py",
   "mimetype": "text/x-python",
   "name": "python",
   "nbconvert_exporter": "python",
   "pygments_lexer": "ipython3",
   "version": "3.11.8"
  }
 },
 "nbformat": 4,
 "nbformat_minor": 5
}
